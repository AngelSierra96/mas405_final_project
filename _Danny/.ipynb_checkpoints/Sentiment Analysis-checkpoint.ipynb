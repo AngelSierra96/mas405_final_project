{
 "cells": [
  {
   "cell_type": "code",
   "execution_count": 1,
   "id": "1be0556c",
   "metadata": {},
   "outputs": [],
   "source": [
    "# Using TextBlob for Sentiment Analysis\n",
    "\n",
    "from textblob import TextBlob"
   ]
  },
  {
   "cell_type": "code",
   "execution_count": 3,
   "id": "2a3eacbf",
   "metadata": {},
   "outputs": [],
   "source": [
    "Feedback1 = \"The food at Radison was awesome\"\n",
    "Feedback2 = \"The food at Radison was very good\""
   ]
  },
  {
   "cell_type": "code",
   "execution_count": 4,
   "id": "8e58af55",
   "metadata": {},
   "outputs": [
    {
     "name": "stdout",
     "output_type": "stream",
     "text": [
      "Sentiment(polarity=1.0, subjectivity=1.0)\n",
      "Sentiment(polarity=0.9099999999999999, subjectivity=0.7800000000000001)\n"
     ]
    }
   ],
   "source": [
    "blob1 = TextBlob(Feedback1)\n",
    "blob2 = TextBlob(Feedback2)\n",
    "print(blob1.sentiment)\n",
    "print(blob2.sentiment)"
   ]
  },
  {
   "cell_type": "code",
   "execution_count": 1,
   "id": "369c56ee",
   "metadata": {},
   "outputs": [
    {
     "ename": "ModuleNotFoundError",
     "evalue": "No module named 'nrclex'",
     "output_type": "error",
     "traceback": [
      "\u001b[0;31m---------------------------------------------------------------------------\u001b[0m",
      "\u001b[0;31mModuleNotFoundError\u001b[0m                       Traceback (most recent call last)",
      "\u001b[0;32m/var/folders/cd/yctrl_052p791d2r9p6wcz3w0000gn/T/ipykernel_90307/4166688499.py\u001b[0m in \u001b[0;36m<module>\u001b[0;34m\u001b[0m\n\u001b[1;32m      4\u001b[0m \u001b[0;31m# Use NRCLex for Emotion Detection\u001b[0m\u001b[0;34m\u001b[0m\u001b[0;34m\u001b[0m\u001b[0m\n\u001b[1;32m      5\u001b[0m \u001b[0;34m\u001b[0m\u001b[0m\n\u001b[0;32m----> 6\u001b[0;31m \u001b[0;32mfrom\u001b[0m \u001b[0mnrclex\u001b[0m \u001b[0;32mimport\u001b[0m \u001b[0mNRCLex\u001b[0m\u001b[0;34m\u001b[0m\u001b[0;34m\u001b[0m\u001b[0m\n\u001b[0m\u001b[1;32m      7\u001b[0m \u001b[0;34m\u001b[0m\u001b[0m\n\u001b[1;32m      8\u001b[0m \u001b[0;34m\u001b[0m\u001b[0m\n",
      "\u001b[0;31mModuleNotFoundError\u001b[0m: No module named 'nrclex'"
     ]
    }
   ],
   "source": [
    "# What about emotion detect? \n",
    "# Sadness, Disgust, Anger, Fear, Surprise, and Happiness\n",
    "# Use Lexicon/ Deep Learning, \n",
    "# Use NRCLex for Emotion Detection\n",
    "\n",
    "from nrclex import NRCLex\n",
    "\n",
    "\n"
   ]
  },
  {
   "cell_type": "code",
   "execution_count": 2,
   "id": "4ff73039",
   "metadata": {},
   "outputs": [
    {
     "name": "stdout",
     "output_type": "stream",
     "text": [
      "Collecting NRCLex\n",
      "  Using cached NRCLex-3.0.0-py3-none-any.whl\n",
      "Requirement already satisfied: textblob in /Users/dannyduoying/opt/anaconda3/lib/python3.9/site-packages (from NRCLex) (0.17.1)\n",
      "Requirement already satisfied: nltk>=3.1 in /Users/dannyduoying/opt/anaconda3/lib/python3.9/site-packages (from textblob->NRCLex) (3.6.5)\n",
      "Requirement already satisfied: click in /Users/dannyduoying/opt/anaconda3/lib/python3.9/site-packages (from nltk>=3.1->textblob->NRCLex) (8.0.3)\n",
      "Requirement already satisfied: joblib in /Users/dannyduoying/opt/anaconda3/lib/python3.9/site-packages (from nltk>=3.1->textblob->NRCLex) (1.1.0)\n",
      "Requirement already satisfied: regex>=2021.8.3 in /Users/dannyduoying/opt/anaconda3/lib/python3.9/site-packages (from nltk>=3.1->textblob->NRCLex) (2021.8.3)\n",
      "Requirement already satisfied: tqdm in /Users/dannyduoying/opt/anaconda3/lib/python3.9/site-packages (from nltk>=3.1->textblob->NRCLex) (4.62.3)\n",
      "Installing collected packages: NRCLex\n",
      "Successfully installed NRCLex-3.0.0\n",
      "Note: you may need to restart the kernel to use updated packages.\n"
     ]
    }
   ],
   "source": [
    "pip install NRCLex"
   ]
  },
  {
   "cell_type": "code",
   "execution_count": null,
   "id": "bf34edf4",
   "metadata": {},
   "outputs": [],
   "source": []
  }
 ],
 "metadata": {
  "kernelspec": {
   "display_name": "Python 3 (ipykernel)",
   "language": "python",
   "name": "python3"
  },
  "language_info": {
   "codemirror_mode": {
    "name": "ipython",
    "version": 3
   },
   "file_extension": ".py",
   "mimetype": "text/x-python",
   "name": "python",
   "nbconvert_exporter": "python",
   "pygments_lexer": "ipython3",
   "version": "3.9.7"
  }
 },
 "nbformat": 4,
 "nbformat_minor": 5
}
